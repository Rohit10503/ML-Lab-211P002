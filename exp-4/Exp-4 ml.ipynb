{
 "cells": [
  {
   "cell_type": "code",
   "execution_count": null,
   "id": "91927a10",
   "metadata": {},
   "outputs": [
    {
     "data": {
      "image/png": "[encoded data removed]",
      "text/plain": [
       "<Figure size 432x288 with 1 Axes>"
      ]
     },
     "metadata": {
      "needs_background": "light"
     },
     "output_type": "display_data"
    },
    {
     "data": {
      "image/png": "[encoded data removed]",
      "text/plain": [
       "<Figure size 432x288 with 1 Axes>"
      ]
     },
     "metadata": {
      "needs_background": "light"
     },
     "output_type": "display_data"
    },
    {
     "data": {
      "image/png": "[encoded data removed]",
      "text/plain": [
       "<Figure size 432x288 with 1 Axes>"
      ]
     },
     "metadata": {
      "needs_background": "light"
     },
     "output_type": "display_data"
    },
    {
     "name": "stderr",
     "output_type": "stream",
     "text": [
      "C:\\ProgramData\\Anaconda3\\lib\\site-packages\\sklearn\\linear_model\\_logistic.py:763: ConvergenceWarning: lbfgs failed to converge (status=1):\n",
      "STOP: TOTAL NO. of ITERATIONS REACHED LIMIT.\n",
      "\n",
      "Increase the number of iterations (max_iter) or scale the data as shown in:\n",
      "    https://scikit-learn.org/stable/modules/preprocessing.html\n",
      "Please also refer to the documentation for alternative solver options:\n",
      "    https://scikit-learn.org/stable/modules/linear_model.html#logistic-regression\n",
      "  n_iter_i = _check_optimize_result(\n"
     ]
    },
    {
     "name": "stdout",
     "output_type": "stream",
     "text": [
      "Accuracy: 0.7684478371501272\n",
      "\n",
      "Confusion Matrix:\n",
      " [[197  27]\n",
      " [ 64 105]]\n",
      "\n",
      "Classification Report:\n",
      "               precision    recall  f1-score   support\n",
      "\n",
      "           0       0.75      0.88      0.81       224\n",
      "           1       0.80      0.62      0.70       169\n",
      "\n",
      "    accuracy                           0.77       393\n",
      "   macro avg       0.78      0.75      0.76       393\n",
      "weighted avg       0.77      0.77      0.76       393\n",
      "\n"
     ]
    }
   ],
   "source": [
    "# Exp-4 211P002\n",
    "import pandas as pd\n",
    "import seaborn as sns\n",
    "import matplotlib.pyplot as plt\n",
    "from sklearn.model_selection import train_test_split\n",
    "from sklearn.linear_model import LogisticRegression\n",
    "from sklearn.metrics import confusion_matrix\n",
    "from sklearn.metrics import accuracy_score, confusion_matrix, classification_report\n",
    "\n",
    "import tkinter as tk\n",
    "from tkinter import ttk\n",
    "import matplotlib.pyplot as plt\n",
    "from matplotlib.backends.backend_tkagg import FigureCanvasTkAgg\n",
    "\n",
    "\n",
    "titanic_data = pd.read_csv('titanic.csv')\n",
    "titanic_data.head()\n",
    "\n",
    "titanic_data.isnull().sum()\n",
    "\n",
    "titanic_data['age'].fillna(titanic_data['age'].mean(), inplace=True)\n",
    "titanic_data['cabin'].fillna(titanic_data['cabin'].mode()[0], inplace=True)\n",
    "titanic_data['embarked'].fillna(titanic_data['embarked'].mode()[0], inplace=True)\n",
    "titanic_data['fare'].fillna(titanic_data['fare'].mean(), inplace=True)\n",
    "\n",
    "titanic_data.isnull().sum()\n",
    "\n",
    "sns.countplot(x='survived', data=titanic_data)\n",
    "plt.show()\n",
    "\n",
    "sns.countplot(x='survived', hue='sex', data=titanic_data)\n",
    "plt.show()\n",
    "\n",
    "sns.countplot(x='survived', hue='pclass', data=titanic_data)\n",
    "plt.show()\n",
    "\n",
    "titanic_data['age'].plot.hist()\n",
    "\n",
    "titanic_data = pd.get_dummies(titanic_data, columns=['sex','embarked'])\n",
    "titanic_data.head()\n",
    "\n",
    "titanic_data.drop(['sex_female', 'embarked_C'], axis=1, inplace=True)\n",
    "titanic_data.head()\n",
    "\n",
    "X = titanic_data.drop('survived', axis=1).select_dtypes(exclude=['object'])\n",
    "y = titanic_data['survived']\n",
    "\n",
    "X_train, X_test, y_train, y_test = train_test_split(X, y, test_size=0.3, random_state=42)\n",
    "\n",
    "model = LogisticRegression()\n",
    "\n",
    "model.fit(X_train, y_train)\n",
    "\n",
    "predictions = model.predict(X_test)\n",
    "\n",
    "print(\"Accuracy:\", accuracy_score(y_test, predictions))\n",
    "print(\"\\nConfusion Matrix:\\n\", confusion_matrix(y_test, predictions))\n",
    "print(\"\\nClassification Report:\\n\", classification_report(y_test, predictions))\n",
    "\n",
    "def plot_graph():\n",
    "     hue_choice = hue_var.get()\n",
    "     sns.countplot(x='survived', hue=hue_choice, data=titanic_data)\n",
    "     plt.title(f'Survival Countplot by {hue_choice.title()}')\n",
    "\n",
    "     canvas = FigureCanvasTkAgg(plt.gcf(), master=root)\n",
    "     canvas.draw()\n",
    "     canvas.get_tk_widget().grid(row=2, column=0, columnspan=2)\n",
    "\n",
    "root = tk.Tk()\n",
    "root.title(\"Titanic Survival Visualization\")\n",
    "\n",
    "hue_var = tk.StringVar(value='pclass')\n",
    "\n",
    "ttk.Label(root, text=\"Select Hue:\").grid(row=0, column=0, padx=5, pady=5)\n",
    "ttk.Radiobutton(root, text=\"Age\", variable=hue_var, value='age').grid(row=0, column=1, sticky='w')\n",
    "ttk.Radiobutton(root, text=\"Pclass\", variable=hue_var, value='pclass').grid(row=1, column=1, sticky='w')\n",
    "\n",
    "plot_button = ttk.Button(root, text=\"Plot Graph\", command=plot_graph)\n",
    "plot_button.grid(row=3, column=0, columnspan=2, pady=10)\n",
    "\n",
    "root.mainloop()\n",
    "\n"
   ]
  },
  {
   "cell_type": "code",
   "execution_count": null,
   "id": "c92f9130",
   "metadata": {},
   "outputs": [
    {
     "name": "stdout",
     "output_type": "stream",
     "text": [
      "Accuracy: 0.9722\n"
     ]
    },
    {
     "name": "stderr",
     "output_type": "stream",
     "text": [
      "Exception in Tkinter callback\n",
      "Traceback (most recent call last):\n",
      "  File \"C:\\ProgramData\\Anaconda3\\lib\\tkinter\\__init__.py\", line 1892, in __call__\n",
      "    return self.func(*args)\n",
      "  File \"C:\\Users\\STUDEN~1.RCO\\AppData\\Local\\Temp/ipykernel_7668/2147273459.py\", line 63, in classify_handwritten_digit\n",
      "    digit = predict_digit(self.image)\n",
      "  File \"C:\\Users\\STUDEN~1.RCO\\AppData\\Local\\Temp/ipykernel_7668/2147273459.py\", line 30, in predict_digit\n",
      "    img = img.resize((8, 8), Image.Resampling.LANCZOS).convert('L')  # Use LANCZOS instead of ANTIALIAS\n",
      "  File \"C:\\ProgramData\\Anaconda3\\lib\\site-packages\\PIL\\Image.py\", line 77, in __getattr__\n",
      "    raise AttributeError(f\"module '{__name__}' has no attribute '{name}'\")\n",
      "AttributeError: module 'PIL.Image' has no attribute 'Resampling'\n"
     ]
    }
   ],
   "source": [
    "import numpy as np\n",
    "import matplotlib.pyplot as plt\n",
    "from sklearn import datasets\n",
    "from sklearn.model_selection import train_test_split\n",
    "from sklearn.linear_model import LogisticRegression\n",
    "from sklearn.metrics import accuracy_score\n",
    "import tkinter as tk\n",
    "from tkinter import *\n",
    "from tkinter import messagebox\n",
    "from PIL import Image, ImageTk, ImageDraw\n",
    "import matplotlib.pyplot as plt\n",
    "from sklearn.datasets import load_digits\n",
    "# Load the digits dataset\n",
    "digits = load_digits()\n",
    "X = digits.data\n",
    "y = digits.target\n",
    "# Split the dataset into training and test sets\n",
    "X_train, X_test, y_train, y_test = train_test_split(X, y, test_size=0.2, random_state=42)\n",
    "# Create and train the logistic regression model\n",
    "model = LogisticRegression(max_iter=10000)\n",
    "model.fit(X_train, y_train)\n",
    "# Predict the test set\n",
    "y_pred = model.predict(X_test)\n",
    "# Display accuracy\n",
    "accuracy = accuracy_score(y_test, y_pred)\n",
    "print(f'Accuracy: {accuracy:.4f}')\n",
    "# Function to predict digit based on drawn image\n",
    "def predict_digit(img):\n",
    "    # Resize image to 8x8 pixels and convert to grayscale\n",
    "    img = img.resize((8, 8), Image.Resampling.LANCZOS).convert('L')  # Use LANCZOS instead of ANTIALIAS\n",
    "    img = np.array(img)\n",
    "    # Invert the image color (as the model was trained on white digits on a black background)\n",
    "    img = 16 - (img / 16)\n",
    "    img = img.reshape(1, -1)\n",
    "    # Predict the digit\n",
    "    res = model.predict(img)\n",
    "    return res[0]\n",
    "# GUI to draw and predict digit\n",
    "class DigitApp:\n",
    "    def __init__(self, root):\n",
    "        self.root = root\n",
    "        self.root.title(\"Digit Recognizer by Rohitkumar Pandey\")\n",
    "        self.root.geometry(\"400x400\")\n",
    "        self.canvas = Canvas(self.root, width=200, height=200, bg=\"white\")\n",
    "        self.canvas.pack(pady=20)       \n",
    "        self.clear_btn = Button(self.root, text=\"Clear\", command=self.clear_canvas)\n",
    "        self.clear_btn.pack(side=LEFT, padx=20)\n",
    "        self.predict_btn = Button(self.root, text=\"Predict\", command=self.classify_handwritten_digit)\n",
    "        self.predict_btn.pack(side=RIGHT, padx=20)\n",
    "        self.canvas.bind(\"<B1-Motion>\", self.draw)\n",
    "        self.image = Image.new(\"RGB\", (200, 200), (255, 255, 255))\n",
    "        self.draw_img = ImageDraw.Draw(self.image)\n",
    "    def clear_canvas(self):\n",
    "        self.canvas.delete(\"all\")\n",
    "        self.image = Image.new(\"RGB\", (200, 200), (255, 255, 255))\n",
    "        self.draw_img = ImageDraw.Draw(self.image)\n",
    "    def draw(self, event):\n",
    "        x, y = event.x, event.y\n",
    "        r = 8\n",
    "        self.canvas.create_oval(x - r, y - r, x + r, y + r, fill=\"black\")\n",
    "        self.draw_img.ellipse([x - r, y - r, x + r, y + r], fill=\"black\")\n",
    "    def classify_handwritten_digit(self):\n",
    "        digit = predict_digit(self.image)\n",
    "        messagebox.showinfo(\"Prediction\", f\"The digit is: {digit}\")\n",
    "# Create GUI window\n",
    "root = Tk()\n",
    "app = DigitApp(root)\n",
    "root.mainloop()"
   ]
  },
  {
   "cell_type": "code",
   "execution_count": null,
   "id": "96b0ed2d",
   "metadata": {},
   "outputs": [],
   "source": []
  }
 ],
 "metadata": {
  "kernelspec": {
   "display_name": "Python 3 (ipykernel)",
   "language": "python",
   "name": "python3"
  },
  "language_info": {
   "codemirror_mode": {
    "name": "ipython",
    "version": 3
   },
   "file_extension": ".py",
   "mimetype": "text/x-python",
   "name": "python",
   "nbconvert_exporter": "python",
   "pygments_lexer": "ipython3",
   "version": "3.9.7"
  }
 },
 "nbformat": 4,
 "nbformat_minor": 5
}
